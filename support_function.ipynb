{
 "cells": [
  {
   "cell_type": "code",
   "execution_count": 1,
   "metadata": {},
   "outputs": [],
   "source": [
    "from support_function import *\n",
    "\n",
    "import pandas as pd\n",
    "from sklearn.datasets import load_iris"
   ]
  },
  {
   "cell_type": "code",
   "execution_count": 2,
   "metadata": {},
   "outputs": [],
   "source": [
    "model_save_path = './model'\n",
    "performance_save_path = './performance'\n",
    "version = 0"
   ]
  },
  {
   "cell_type": "code",
   "execution_count": 3,
   "metadata": {},
   "outputs": [],
   "source": [
    "# Load the Iris dataset\n",
    "iris = load_iris()\n",
    "\n",
    "# Create a DataFrame with the feature data\n",
    "iris_df = pd.DataFrame(iris.data, columns=iris.feature_names)\n",
    "\n",
    "# Add the target variable to the DataFrame\n",
    "iris_df['target'] = iris.target\n",
    "\n",
    "# Select two classes only\n",
    "iris_df = iris_df.iloc[50:150, :]\n",
    "iris_df['target'] = iris_df['target'] - 1"
   ]
  },
  {
   "cell_type": "code",
   "execution_count": 4,
   "metadata": {},
   "outputs": [],
   "source": [
    "# Split the data into train and test sets\n",
    "X_train, X_val, X_test, y_train, y_val, y_test = train_val_test(iris_df)"
   ]
  },
  {
   "cell_type": "code",
   "execution_count": 5,
   "metadata": {},
   "outputs": [],
   "source": [
    "# A dataframe storing performance\n",
    "performance = pd.DataFrame()"
   ]
  },
  {
   "cell_type": "code",
   "execution_count": 6,
   "metadata": {},
   "outputs": [
    {
     "name": "stdout",
     "output_type": "stream",
     "text": [
      "\n",
      "=========================================== Gradient Boosting Classification ===========================================\n",
      "\n",
      "100%|██████████| 10/10 [00:00<00:00, 13.29trial/s, best loss: 2.4029102259411435]\n",
      "Best trial: {'learning_rate': 0.0019219333446576872, 'max_depth': 10.0, 'max_features': 0, 'min_samples_leaf': 10.0, 'min_samples_split': 6.0, 'n_estimators': 90.0, 'subsample': 0.5279609139494574}\n",
      "Accuracy: 0.93\n",
      "Precision: 1.00\n",
      "F1: 0.94\n",
      "ROC AUC: 0.94\n"
     ]
    }
   ],
   "source": [
    "gb = ModelTrainer('gb', version, model_save_path, None)\n",
    "gb_model, performance['gb'] = gb.train_and_evaluate(X_train, y_train, X_val, y_val, 10, save=True)"
   ]
  },
  {
   "cell_type": "code",
   "execution_count": 7,
   "metadata": {},
   "outputs": [
    {
     "name": "stdout",
     "output_type": "stream",
     "text": [
      "\n",
      "================================================= Logistics Regression =================================================\n",
      "\n",
      "100%|██████████| 50/50 [00:00<00:00, 520.64trial/s, best loss: 2.2204460492503136e-16]\n",
      "Best trial: {'C': 0.27316487343159385}\n",
      "Accuracy: 1.00\n",
      "Precision: 1.00\n",
      "F1: 1.00\n",
      "ROC AUC: 1.00\n"
     ]
    }
   ],
   "source": [
    "logistics = ModelTrainer('logistics', version, model_save_path, None)\n",
    "logistics_model, performance['logistics'] = logistics.train_and_evaluate(X_train, y_train, X_val, y_val, 50, save=True)"
   ]
  },
  {
   "cell_type": "code",
   "execution_count": 8,
   "metadata": {},
   "outputs": [
    {
     "name": "stdout",
     "output_type": "stream",
     "text": [
      "\n",
      "===================================================== Naive Bayes ======================================================\n",
      "\n",
      "100%|██████████| 20/20 [00:00<00:00, 654.47trial/s, best loss: 2.4029102259411435]\n",
      "Best trial: {'alpha': 0.001702954797336351, 'binarize': 0.7084414966431105}\n",
      "Accuracy: 0.93\n",
      "Precision: 1.00\n",
      "F1: 0.94\n",
      "ROC AUC: 0.94\n"
     ]
    }
   ],
   "source": [
    "nb = ModelTrainer('nb', version, model_save_path, None)\n",
    "nb_model, performance['nb'] = nb.train_and_evaluate(X_train, y_train, X_val, y_val, 20, save=True)"
   ]
  },
  {
   "cell_type": "code",
   "execution_count": 9,
   "metadata": {},
   "outputs": [
    {
     "name": "stdout",
     "output_type": "stream",
     "text": [
      "\n",
      "================================================ Support Vector Machine ================================================\n",
      "\n",
      "100%|██████████| 3/3 [00:00<00:00, 419.82trial/s, best loss: 2.2204460492503136e-16]\n",
      "Best trial: {'C': 0.03317746353030991, 'degree': 4.0, 'gamma': 0, 'kernel': 0}\n",
      "Accuracy: 1.00\n",
      "Precision: 1.00\n",
      "F1: 1.00\n",
      "ROC AUC: 1.00\n"
     ]
    }
   ],
   "source": [
    "svm = ModelTrainer('svm', version, model_save_path, None)\n",
    "svm_model, performance['svm'] = svm.train_and_evaluate(X_train, y_train, X_val, y_val, 3, save=False)"
   ]
  },
  {
   "cell_type": "code",
   "execution_count": 10,
   "metadata": {},
   "outputs": [
    {
     "name": "stdout",
     "output_type": "stream",
     "text": [
      "\n",
      "==================================================== Neural Network ====================================================\n",
      "\n",
      "Epoch [500/2000], Train Loss: 0.0873, Val Loss: 0.2104\n",
      "Epoch [1000/2000], Train Loss: 0.0394, Val Loss: 0.2716\n",
      "Epoch [1500/2000], Train Loss: 0.0264, Val Loss: 0.3562\n",
      "Epoch [2000/2000], Train Loss: 0.0182, Val Loss: 0.4441\n",
      "Accuracy: 0.87\n",
      "Precision: 1.00\n",
      "F1: 0.88\n",
      "ROC AUC: 0.89\n"
     ]
    }
   ],
   "source": [
    "nn = ModelTrainer('nn', version, model_save_path, None)\n",
    "nn_model, performance['nn'] = nn.train_and_evaluate(X_train, y_train, X_val, y_val, 0, [16, 0.2, 1], save=False)"
   ]
  },
  {
   "cell_type": "code",
   "execution_count": 11,
   "metadata": {},
   "outputs": [
    {
     "data": {
      "text/plain": [
       "DefaultProbModel(\n",
       "  (model): Sequential(\n",
       "    (0): Linear(in_features=4, out_features=16, bias=True)\n",
       "    (1): ReLU()\n",
       "    (2): Dropout(p=0.2, inplace=False)\n",
       "    (3): Linear(in_features=16, out_features=1, bias=True)\n",
       "    (4): Sigmoid()\n",
       "  )\n",
       ")"
      ]
     },
     "execution_count": 11,
     "metadata": {},
     "output_type": "execute_result"
    }
   ],
   "source": [
    "nn_model.eval()"
   ]
  },
  {
   "cell_type": "code",
   "execution_count": 12,
   "metadata": {},
   "outputs": [
    {
     "data": {
      "text/html": [
       "<div>\n",
       "<style scoped>\n",
       "    .dataframe tbody tr th:only-of-type {\n",
       "        vertical-align: middle;\n",
       "    }\n",
       "\n",
       "    .dataframe tbody tr th {\n",
       "        vertical-align: top;\n",
       "    }\n",
       "\n",
       "    .dataframe thead th {\n",
       "        text-align: right;\n",
       "    }\n",
       "</style>\n",
       "<table border=\"1\" class=\"dataframe\">\n",
       "  <thead>\n",
       "    <tr style=\"text-align: right;\">\n",
       "      <th></th>\n",
       "      <th>gb</th>\n",
       "      <th>logistics</th>\n",
       "      <th>nb</th>\n",
       "      <th>svm</th>\n",
       "      <th>nn</th>\n",
       "    </tr>\n",
       "  </thead>\n",
       "  <tbody>\n",
       "    <tr>\n",
       "      <th>0</th>\n",
       "      <td>0.933333</td>\n",
       "      <td>1.0</td>\n",
       "      <td>0.933333</td>\n",
       "      <td>1.0</td>\n",
       "      <td>0.866667</td>\n",
       "    </tr>\n",
       "    <tr>\n",
       "      <th>1</th>\n",
       "      <td>1.000000</td>\n",
       "      <td>1.0</td>\n",
       "      <td>1.000000</td>\n",
       "      <td>1.0</td>\n",
       "      <td>1.000000</td>\n",
       "    </tr>\n",
       "    <tr>\n",
       "      <th>2</th>\n",
       "      <td>0.941176</td>\n",
       "      <td>1.0</td>\n",
       "      <td>0.941176</td>\n",
       "      <td>1.0</td>\n",
       "      <td>0.875000</td>\n",
       "    </tr>\n",
       "    <tr>\n",
       "      <th>3</th>\n",
       "      <td>0.944444</td>\n",
       "      <td>1.0</td>\n",
       "      <td>0.944444</td>\n",
       "      <td>1.0</td>\n",
       "      <td>0.888889</td>\n",
       "    </tr>\n",
       "  </tbody>\n",
       "</table>\n",
       "</div>"
      ],
      "text/plain": [
       "         gb  logistics        nb  svm        nn\n",
       "0  0.933333        1.0  0.933333  1.0  0.866667\n",
       "1  1.000000        1.0  1.000000  1.0  1.000000\n",
       "2  0.941176        1.0  0.941176  1.0  0.875000\n",
       "3  0.944444        1.0  0.944444  1.0  0.888889"
      ]
     },
     "execution_count": 12,
     "metadata": {},
     "output_type": "execute_result"
    }
   ],
   "source": [
    "performance"
   ]
  }
 ],
 "metadata": {
  "kernelspec": {
   "display_name": "ds",
   "language": "python",
   "name": "python3"
  },
  "language_info": {
   "codemirror_mode": {
    "name": "ipython",
    "version": 3
   },
   "file_extension": ".py",
   "mimetype": "text/x-python",
   "name": "python",
   "nbconvert_exporter": "python",
   "pygments_lexer": "ipython3",
   "version": "3.11.8"
  }
 },
 "nbformat": 4,
 "nbformat_minor": 2
}
